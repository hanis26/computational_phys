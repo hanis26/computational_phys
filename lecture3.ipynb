{
 "cells": [
  {
   "cell_type": "code",
   "execution_count": 1,
   "id": "9fe8763d",
   "metadata": {},
   "outputs": [
    {
     "name": "stdout",
     "output_type": "stream",
     "text": [
      "hello world\n",
      "True\n"
     ]
    }
   ],
   "source": [
    "def uselessfunction():\n",
    "    print (\"hello world\")\n",
    "    return True\n",
    "x=uselessfunction()\n",
    "print(x)\n",
    "\n",
    "\n"
   ]
  },
  {
   "cell_type": "code",
   "execution_count": 2,
   "id": "bfef8eb0",
   "metadata": {},
   "outputs": [
    {
     "name": "stdout",
     "output_type": "stream",
     "text": [
      "1\n"
     ]
    }
   ],
   "source": [
    "def kroneckerdelta(i,j):\n",
    "    if(i==j):\n",
    "        return 1\n",
    "    else:\n",
    "        return 0\n",
    "    \n",
    "print(kroneckerdelta(2,2))"
   ]
  },
  {
   "cell_type": "code",
   "execution_count": 3,
   "id": "3a2c85be",
   "metadata": {},
   "outputs": [
    {
     "name": "stdout",
     "output_type": "stream",
     "text": [
      "2485\n"
     ]
    }
   ],
   "source": [
    "x=50\n",
    "def sumofnumber(nmax=100):\n",
    "    return sum(range(1,nmax+1))\n",
    "\n",
    "print (sumofnumber(70))"
   ]
  },
  {
   "cell_type": "code",
   "execution_count": 4,
   "id": "0be9eb68",
   "metadata": {},
   "outputs": [
    {
     "name": "stdout",
     "output_type": "stream",
     "text": [
      "5.0\n"
     ]
    }
   ],
   "source": [
    "import math\n",
    "def mag(x,y):\n",
    "    return math.sqrt(x**2.0+y**2.0)\n",
    "print(mag(x=3.0,y=4.0))"
   ]
  },
  {
   "cell_type": "code",
   "execution_count": 5,
   "id": "5646b8b6",
   "metadata": {},
   "outputs": [
    {
     "name": "stdout",
     "output_type": "stream",
     "text": [
      "4.330127018922194 2.4999999999999996\n"
     ]
    }
   ],
   "source": [
    "def cartesian(r,theta):\n",
    "    x=r*math.cos(theta)\n",
    "    y=r*math.sin(theta)\n",
    "    return(x,y)\n",
    "x,y=cartesian(5,math.pi/6)\n",
    "\n",
    "print(x,y)"
   ]
  },
  {
   "cell_type": "code",
   "execution_count": 6,
   "id": "50d7ee62",
   "metadata": {},
   "outputs": [
    {
     "name": "stdout",
     "output_type": "stream",
     "text": [
      "[6, 3, 2]\n"
     ]
    }
   ],
   "source": [
    "import numpy as np\n",
    "import scipy as sp\n",
    "import math\n",
    "\n",
    "a = [1,2,3,5,12,0,4,0]\n",
    "\n",
    "product = 1\n",
    "num_z\n",
    "for element in a:\n",
    "    product = product*element\n",
    "    \n",
    "p=[]\n",
    "for element in a:\n",
    "    p.append(product//element)\n",
    "\n",
    "print(p)\n"
   ]
  },
  {
   "cell_type": "code",
   "execution_count": 11,
   "id": "fb0a33b5",
   "metadata": {},
   "outputs": [
    {
     "name": "stdout",
     "output_type": "stream",
     "text": [
      "4\n"
     ]
    }
   ],
   "source": [
    "s1='hello'\n",
    "s2='world'\n",
    "\n",
    "n1=len(s1)\n",
    "n2=len(s2)\n",
    "j=0\n",
    "x=abs(n1-n2)\n",
    "#if x==0:\n",
    "for i in range(n1):\n",
    "    if s1[i]==s2[i]:\n",
    "        j+=1\n",
    "        \n",
    "j=n1-j\n",
    "print(j)\n",
    "\n",
    " \n"
   ]
  },
  {
   "cell_type": "code",
   "execution_count": 13,
   "id": "04b240f6",
   "metadata": {},
   "outputs": [
    {
     "name": "stdout",
     "output_type": "stream",
     "text": [
      "10395\n"
     ]
    }
   ],
   "source": [
    "n=11\n",
    "dfactorial=1\n",
    "for i in range(3,n+1,2):\n",
    "    dfactorial = dfactorial*i\n",
    "    \n",
    "print (dfactorial)\n"
   ]
  },
  {
   "cell_type": "code",
   "execution_count": null,
   "id": "49ff6312",
   "metadata": {},
   "outputs": [],
   "source": [
    "def agm():\n",
    "x=3\n",
    "y=6\n",
    "\n",
    "a_n=x\n",
    "b_n=y\n",
    "while a_n != b_n:\n",
    "    "
   ]
  }
 ],
 "metadata": {
  "kernelspec": {
   "display_name": "Python 3 (ipykernel)",
   "language": "python",
   "name": "python3"
  },
  "language_info": {
   "codemirror_mode": {
    "name": "ipython",
    "version": 3
   },
   "file_extension": ".py",
   "mimetype": "text/x-python",
   "name": "python",
   "nbconvert_exporter": "python",
   "pygments_lexer": "ipython3",
   "version": "3.9.13"
  }
 },
 "nbformat": 4,
 "nbformat_minor": 5
}
