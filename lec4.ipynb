{
 "cells": [
  {
   "cell_type": "code",
   "execution_count": 13,
   "id": "9fd1ddc5",
   "metadata": {},
   "outputs": [
    {
     "name": "stdout",
     "output_type": "stream",
     "text": [
      "1455.178887338514\n",
      "[60076876, 30038438.017623417, 15019219.044058543, 7509609.592522941, 3754804.9372488083, 1877402.7505990693, 938701.9392487803, 469352.0975222038, 234678.30455130842, 117343.66381270075, 58680.854633531366, 29358.46999647122, 14715.298180858112, 7429.598693623455, 3857.305006761934, 2203.13426283322, 1582.1369645226687, 1460.2645687831027]\n"
     ]
    }
   ],
   "source": [
    "import math\n",
    "\n",
    "\n",
    "x=60076876\n",
    "xlist=[]\n",
    "S=2117519.73\n",
    "while True:\n",
    "    x_n=0.5*(x+S/x)\n",
    "    if math.isclose(x,x_n,abs_tol=0.01):\n",
    "        break\n",
    "    xlist.append(x)\n",
    "    x = x_n\n",
    "\n",
    "print (x)\n",
    "print(xlist)"
   ]
  },
  {
   "cell_type": "markdown",
   "id": "20c784f2",
   "metadata": {},
   "source": [
    "for else loop: takes in a list, and finds the value you are searching for/\n",
    "\n"
   ]
  },
  {
   "cell_type": "code",
   "execution_count": 20,
   "id": "7cf6393a",
   "metadata": {},
   "outputs": [
    {
     "ename": "SyntaxError",
     "evalue": "invalid syntax (24390571.py, line 6)",
     "output_type": "error",
     "traceback": [
      "\u001b[1;36m  File \u001b[1;32m\"C:\\Users\\hania\\AppData\\Local\\Temp\\ipykernel_8512\\24390571.py\"\u001b[1;36m, line \u001b[1;32m6\u001b[0m\n\u001b[1;33m    else:\u001b[0m\n\u001b[1;37m    ^\u001b[0m\n\u001b[1;31mSyntaxError\u001b[0m\u001b[1;31m:\u001b[0m invalid syntax\n"
     ]
    }
   ],
   "source": [
    "def look(target,names):\n",
    "    for name in names:\n",
    "        if name == target:\n",
    "            value=name\n",
    "    break\n",
    "    else:\n",
    "        value=None\n",
    "    return cal\n",
    "        \n",
    "names = ['apple','banana','grapes']\n",
    "print (look('apple',names))"
   ]
  },
  {
   "cell_type": "code",
   "execution_count": null,
   "id": "93baeefe",
   "metadata": {},
   "outputs": [],
   "source": []
  }
 ],
 "metadata": {
  "kernelspec": {
   "display_name": "Python 3 (ipykernel)",
   "language": "python",
   "name": "python3"
  },
  "language_info": {
   "codemirror_mode": {
    "name": "ipython",
    "version": 3
   },
   "file_extension": ".py",
   "mimetype": "text/x-python",
   "name": "python",
   "nbconvert_exporter": "python",
   "pygments_lexer": "ipython3",
   "version": "3.9.13"
  }
 },
 "nbformat": 4,
 "nbformat_minor": 5
}
