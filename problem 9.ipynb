{
 "cells": [
  {
   "cell_type": "code",
   "execution_count": 1,
   "id": "01c0f511",
   "metadata": {},
   "outputs": [
    {
     "name": "stdout",
     "output_type": "stream",
     "text": [
      "1.6448340618480652\n",
      "[]\n",
      "0\n"
     ]
    }
   ],
   "source": [
    "#problem 9\n",
    "#part a\n",
    "import math\n",
    "k=[]\n",
    "nmaxd=0\n",
    "summation=1\n",
    "summ_list=[0]\n",
    "k = [i for i in range(1,10000)]\n",
    "for i in range (1,len(k)):\n",
    "    summation = summation+(1/(k[i]**2))\n",
    "    summ_list.append(summation)\n",
    "    if math.isclose(summ_list[i],summ_list[i-1],rel_tol=1e-10):\n",
    "        nmaxd=k[i]\n",
    "        print(nmaxd)\n",
    "        break\n",
    "    else: \n",
    "        continue\n",
    "\n",
    "print(summation)\n",
    "\n",
    "\n",
    "\n",
    "#part b\n",
    "\n",
    "#1/k^2 becomes smaller than the tolerance set for the isclose function (here it is the default value of 1e-09)\n",
    "#therefore, the summation stops changing significantly changing at nmaxd\n",
    "\n",
    "#part c\\\n",
    "nmaxr=nmaxd*2\n",
    "summation_1=0\n",
    "summ_list_1=[]\n",
    "k_1 = [i for i in range(nmaxr,0,-1)]\n",
    "print(k_1)\n",
    "for i in range(1,nmaxr+1,1):\n",
    "    summation_1=summation_1+(1/(k_1[i]**2))\n",
    "\n",
    "print(summation_1)"
   ]
  },
  {
   "cell_type": "code",
   "execution_count": null,
   "id": "2e85ee1c",
   "metadata": {},
   "outputs": [],
   "source": []
  }
 ],
 "metadata": {
  "kernelspec": {
   "display_name": "Python 3 (ipykernel)",
   "language": "python",
   "name": "python3"
  },
  "language_info": {
   "codemirror_mode": {
    "name": "ipython",
    "version": 3
   },
   "file_extension": ".py",
   "mimetype": "text/x-python",
   "name": "python",
   "nbconvert_exporter": "python",
   "pygments_lexer": "ipython3",
   "version": "3.9.13"
  }
 },
 "nbformat": 4,
 "nbformat_minor": 5
}
