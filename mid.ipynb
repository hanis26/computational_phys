{
 "cells": [
  {
   "cell_type": "markdown",
   "id": "63eeab97",
   "metadata": {},
   "source": [
    "problem 4\n",
    "\n",
    "\n",
    "$\\Delta x\\equiv h$\n",
    "\n",
    "we expand the expressions $f(x+\\frac{h}{2})$ and $f(x-\\frac{h}{2})$ in a taylor series\n",
    "\n",
    "$$f(x+\\frac{h}{2})=f(x)+\\frac{h}{2}f'(x)+\\frac{h^{2}}{8}f''(x)+\\frac{h^{3}}{48}f'''(x)$$\n",
    "$$f(x-\\frac{h}{2})=f(x)-\\frac{h}{2}f'(x)+\\frac{h^{2}}{8}f''(x)-\\frac{h^{3}}{48}f'''(x)$$\n",
    "$$f(x+\\frac{h}{2})+(x-\\frac{h}{2})=2f(x)+\\frac{2h^{2}}{8}f''(x)$$\n",
    "$$f(x+\\frac{h}{2})+(x-\\frac{h}{2})=2f(x)+\\frac{h^{2}}{4}f''(x)$$\n",
    "$$\\frac{4}{h^{2}}(f(x+\\frac{h}{2})+(x-\\frac{h}{2}))=f''(x)$$\n",
    "$$f''(x)=\\frac{4}{h^{2}}(f(x+\\frac{h}{2})+(x-\\frac{h}{2}))$$"
   ]
  },
  {
   "cell_type": "markdown",
   "id": "6e5d851d",
   "metadata": {},
   "source": [
    "problem 5\n",
    "\n",
    "\n",
    "(a) there will be $2n^{2}-n$ floating point operations being carried out \n",
    "\n",
    "\n",
    "(b) there are $2n^{2}m -n^{2}$ operations being carried out"
   ]
  },
  {
   "cell_type": "markdown",
   "id": "91a83b35",
   "metadata": {},
   "source": [
    "problem 7"
   ]
  },
  {
   "cell_type": "markdown",
   "id": "e0ad400a",
   "metadata": {},
   "source": [
    "(a) if we have a stepsize h, and the function is to be evaluated from x = 1-10 then the range of x will be divided into n pieces. \n",
    "\n",
    "$$stepsize  = \\frac{10-1}{n}$$\n",
    "once we have the step size, we will evaluate the function at an increment of each step size. each evaluation of the function will be added to the previous evaluation and we will thus have approximated the curve. the smaller the step size, the more accurate the curve will be. \n"
   ]
  },
  {
   "cell_type": "markdown",
   "id": "6ce67431",
   "metadata": {},
   "source": [
    "(b) expanding f(x,y)=$x^{2}y$ in  taylor series:\n",
    "\n"
   ]
  },
  {
   "cell_type": "code",
   "execution_count": null,
   "id": "38f59411",
   "metadata": {},
   "outputs": [],
   "source": []
  }
 ],
 "metadata": {
  "kernelspec": {
   "display_name": "Python 3 (ipykernel)",
   "language": "python",
   "name": "python3"
  },
  "language_info": {
   "codemirror_mode": {
    "name": "ipython",
    "version": 3
   },
   "file_extension": ".py",
   "mimetype": "text/x-python",
   "name": "python",
   "nbconvert_exporter": "python",
   "pygments_lexer": "ipython3",
   "version": "3.9.13"
  }
 },
 "nbformat": 4,
 "nbformat_minor": 5
}
